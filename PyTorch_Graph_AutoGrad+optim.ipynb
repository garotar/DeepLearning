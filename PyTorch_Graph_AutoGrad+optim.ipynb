{
  "cells": [
    {
      "cell_type": "markdown",
      "metadata": {
        "id": "0ASMAkBDa4va"
      },
      "source": [
        "# В конце этого семинара - домашка!"
      ]
    },
    {
      "cell_type": "code",
      "source": [
        "from google.colab import drive\n",
        "drive.mount('/content/drive')"
      ],
      "metadata": {
        "colab": {
          "base_uri": "https://localhost:8080/"
        },
        "id": "C6Q1XS50a6Pp",
        "outputId": "b7fe5a23-6960-419f-ddb4-3e88042b3605"
      },
      "execution_count": 1,
      "outputs": [
        {
          "output_type": "stream",
          "name": "stdout",
          "text": [
            "Drive already mounted at /content/drive; to attempt to forcibly remount, call drive.mount(\"/content/drive\", force_remount=True).\n"
          ]
        }
      ]
    },
    {
      "cell_type": "markdown",
      "metadata": {
        "id": "LsYSstOsa4vc"
      },
      "source": [
        "# PyTorch"
      ]
    },
    {
      "cell_type": "markdown",
      "metadata": {
        "id": "m45ZnxwNa4vd"
      },
      "source": [
        "## __Tensors__"
      ]
    },
    {
      "cell_type": "markdown",
      "metadata": {
        "id": "YSqWX7Dda4ve"
      },
      "source": [
        "Одно из основных понятий в PyTorch -- это __Tenosor__. \n",
        "\n",
        "https://pytorch.org/docs/master/tensors.html\n",
        "\n",
        "__Tensor__ -- это такой же массив, как и в __numpy.array__, размерность и тип данных которого мы можем задать. Tensor в отличие от numpy.array может вычисляться на __GPU__."
      ]
    },
    {
      "cell_type": "code",
      "execution_count": 2,
      "metadata": {
        "id": "t7HMm80Ia4vf"
      },
      "outputs": [],
      "source": [
        "import numpy as np\n",
        "import torch"
      ]
    },
    {
      "cell_type": "code",
      "execution_count": 3,
      "metadata": {
        "id": "ZRX1tQc7a4vg"
      },
      "outputs": [],
      "source": [
        "N = 100\n",
        "D_in = 50\n",
        "\n",
        "dtype = torch.float\n",
        "device = torch.device(\"cpu\")\n",
        "# device = torch.device(\"cuda:0\") # Uncomment this to run on GPU\n",
        "\n",
        "x = np.random.randn(N, D_in)\n",
        "x_torch = torch.randn(N, D_in, device=device, dtype=dtype)"
      ]
    },
    {
      "cell_type": "code",
      "execution_count": 4,
      "metadata": {
        "colab": {
          "base_uri": "https://localhost:8080/"
        },
        "id": "Wg-HboJta4vg",
        "outputId": "833d47db-f381-4633-965b-dbb3a5c321f6"
      },
      "outputs": [
        {
          "output_type": "execute_result",
          "data": {
            "text/plain": [
              "array([[ 0.74724699, -1.04753794, -0.37693094, ...,  1.57588252,\n",
              "        -0.42766323,  0.23178539],\n",
              "       [-0.60572373,  1.22641809, -0.60733579, ...,  0.89573637,\n",
              "        -1.1821451 , -0.19436447],\n",
              "       [ 1.30823079,  1.33107459,  0.25812365, ...,  1.20281469,\n",
              "        -0.89473241, -0.61833668],\n",
              "       ...,\n",
              "       [ 0.57116624,  0.70104762, -0.82076609, ...,  1.05895932,\n",
              "         1.54871356,  0.30219272],\n",
              "       [-0.13739667,  0.95732953,  0.70916948, ...,  0.03443087,\n",
              "         0.75663626,  0.92439656],\n",
              "       [ 0.89634598, -1.35880073, -0.4112186 , ...,  1.43140187,\n",
              "        -0.47482719, -0.11724926]])"
            ]
          },
          "metadata": {},
          "execution_count": 4
        }
      ],
      "source": [
        "x"
      ]
    },
    {
      "cell_type": "code",
      "execution_count": 5,
      "metadata": {
        "colab": {
          "base_uri": "https://localhost:8080/"
        },
        "id": "JjtLZtfga4vh",
        "outputId": "f95bdd32-b324-46be-85fd-6a0b6c6da626"
      },
      "outputs": [
        {
          "output_type": "execute_result",
          "data": {
            "text/plain": [
              "tensor([[-0.3391, -0.4470,  0.3164,  ...,  0.6783, -1.4129,  0.5895],\n",
              "        [-1.4189, -2.0736, -0.2223,  ..., -0.0969, -1.0083, -1.1968],\n",
              "        [ 0.8209,  1.3571, -0.1696,  ..., -0.3873, -0.2203,  0.4337],\n",
              "        ...,\n",
              "        [-0.6221, -1.0466,  0.7543,  ...,  0.6530, -1.1361,  1.5000],\n",
              "        [-2.2427, -1.6083,  1.8030,  ..., -0.7249,  2.1276,  2.0557],\n",
              "        [ 0.0788, -0.4556,  0.0207,  ...,  0.2773,  1.5370, -0.6584]])"
            ]
          },
          "metadata": {},
          "execution_count": 5
        }
      ],
      "source": [
        "x_torch"
      ]
    },
    {
      "cell_type": "code",
      "execution_count": 6,
      "metadata": {
        "colab": {
          "base_uri": "https://localhost:8080/"
        },
        "id": "FTAOrrR8a4vi",
        "outputId": "2fac68b3-94dd-49ee-eb82-03c549babe33"
      },
      "outputs": [
        {
          "output_type": "execute_result",
          "data": {
            "text/plain": [
              "tensor([[1., 1., 1.,  ..., 1., 1., 1.],\n",
              "        [1., 1., 1.,  ..., 1., 1., 1.],\n",
              "        [1., 1., 1.,  ..., 1., 1., 1.],\n",
              "        ...,\n",
              "        [1., 1., 1.,  ..., 1., 1., 1.],\n",
              "        [1., 1., 1.,  ..., 1., 1., 1.],\n",
              "        [1., 1., 1.,  ..., 1., 1., 1.]])"
            ]
          },
          "metadata": {},
          "execution_count": 6
        }
      ],
      "source": [
        "x_torch = torch.Tensor(np.ones((N, D_in)))\n",
        "x_torch"
      ]
    },
    {
      "cell_type": "code",
      "execution_count": 7,
      "metadata": {
        "colab": {
          "base_uri": "https://localhost:8080/"
        },
        "id": "rbPZQ8v0a4vj",
        "outputId": "8421afee-f528-41be-be2a-13879ee67d5e"
      },
      "outputs": [
        {
          "output_type": "execute_result",
          "data": {
            "text/plain": [
              "tensor([1., 2., 3.])"
            ]
          },
          "metadata": {},
          "execution_count": 7
        }
      ],
      "source": [
        "x_torch = torch.FloatTensor([1, 2, 3])\n",
        "x_torch"
      ]
    },
    {
      "cell_type": "code",
      "execution_count": 8,
      "metadata": {
        "id": "X5CLVc16a4vk"
      },
      "outputs": [],
      "source": [
        "x1 = torch.IntTensor([1, 2, 3])\n",
        "x2 = torch.FloatTensor([3, 4, 5])"
      ]
    },
    {
      "cell_type": "code",
      "execution_count": 9,
      "metadata": {
        "colab": {
          "base_uri": "https://localhost:8080/"
        },
        "id": "NieGmwnia4vk",
        "outputId": "7557d229-10c9-4df8-ebe8-3e0cbcf207ed"
      },
      "outputs": [
        {
          "output_type": "stream",
          "name": "stdout",
          "text": [
            "tensor([1, 2, 3], dtype=torch.int32)\n",
            "tensor([3., 4., 5.])\n"
          ]
        }
      ],
      "source": [
        "print(x1)\n",
        "print(x2)"
      ]
    },
    {
      "cell_type": "markdown",
      "metadata": {
        "id": "Csnwdtmma4vl"
      },
      "source": [
        "В PyTorch можно найти много операций, которые похожи на то, что есть в numpy :\n",
        "```\n",
        "- torch.add (np.add) -> сложение тензоров (поэлементное)\n",
        "- torch.sub (np.subtract) -> вычитание (поэлементное)\n",
        "- torch.mul (np.multiply) -> умнажение скаляров / матриц (поэлементное)\n",
        "- torch.mm (np.matmul) -> перемножение матриц\n",
        "- torch.ones (np.ones) -> создание тензора из единиц\n",
        "```"
      ]
    },
    {
      "cell_type": "code",
      "execution_count": 10,
      "metadata": {
        "id": "UgMJG2wEa4vl"
      },
      "outputs": [],
      "source": [
        "# Давайте попробуем вышепересчисленные операции"
      ]
    },
    {
      "cell_type": "code",
      "execution_count": 11,
      "metadata": {
        "id": "7iCGqR2Ya4vl"
      },
      "outputs": [],
      "source": [
        "x1 = torch.FloatTensor([[1, 2, 3], [4, 5, 6]])"
      ]
    },
    {
      "cell_type": "code",
      "execution_count": 12,
      "metadata": {
        "id": "MxaqbRGja4vm"
      },
      "outputs": [],
      "source": [
        "x2 = torch.FloatTensor([[7, 8], [9, 1], [2, 3]])"
      ]
    },
    {
      "cell_type": "code",
      "execution_count": 13,
      "metadata": {
        "colab": {
          "base_uri": "https://localhost:8080/"
        },
        "id": "Dp0TFFCVa4vm",
        "outputId": "75c52059-ecc4-4524-8c48-5f1b4fe8288e"
      },
      "outputs": [
        {
          "output_type": "execute_result",
          "data": {
            "text/plain": [
              "tensor([[31., 19.],\n",
              "        [85., 55.]])"
            ]
          },
          "metadata": {},
          "execution_count": 13
        }
      ],
      "source": [
        "out = torch.mm(x1, x2)\n",
        "out"
      ]
    },
    {
      "cell_type": "markdown",
      "metadata": {
        "id": "i-b_Y6TPa4vn"
      },
      "source": [
        "```\n",
        "- torch.view (np.reshape) -> изменения порядка элементов в тензоре, не путать с транспонированием.\n",
        "```"
      ]
    },
    {
      "cell_type": "markdown",
      "metadata": {
        "id": "1DRngEHTa4vn"
      },
      "source": [
        "## Dynamic Computational Graph"
      ]
    },
    {
      "cell_type": "markdown",
      "metadata": {
        "id": "z-DGx_9Ma4vn"
      },
      "source": [
        "После того, как были реализованы архитектура модели и весь процес обучения и валидация сети, при запуске кода в PyTorch происходят следующие этапы:"
      ]
    },
    {
      "cell_type": "markdown",
      "metadata": {
        "id": "Xt9-KYWka4vn"
      },
      "source": [
        "1. Строится вычислительный граф (направленный ациклический граф), где каждое ребро, ведущее к дргуому узлу, -- это тензор, а узел - это выполнение операции над данным тензором."
      ]
    },
    {
      "cell_type": "markdown",
      "metadata": {
        "id": "47fwuSBEa4vo"
      },
      "source": [
        "<img src=\"./images/Graph.png\" alt=\"Drawing\" style=\"width: 300px;\"/>"
      ]
    },
    {
      "cell_type": "markdown",
      "metadata": {
        "id": "PgvhqKMxa4vo"
      },
      "source": [
        "Реализуем двухслойную сеть для задачи регрессии. И граф для такой архитектуры бдует выглядить следующим образом:"
      ]
    },
    {
      "cell_type": "markdown",
      "metadata": {
        "id": "maqeG1sOa4vo"
      },
      "source": [
        "<img src=\"./images/RegGraph.png\" alt=\"Drawing\" />"
      ]
    },
    {
      "cell_type": "code",
      "execution_count": 60,
      "metadata": {
        "id": "6al4Q2mVa4vo"
      },
      "outputs": [],
      "source": [
        "batch_size = 64\n",
        "input_size = 3\n",
        "hidden_size = 2\n",
        "output_size = 1"
      ]
    },
    {
      "cell_type": "code",
      "execution_count": 61,
      "metadata": {
        "colab": {
          "base_uri": "https://localhost:8080/"
        },
        "id": "iR0Tqfw6a4vo",
        "outputId": "3956e0e2-4979-401d-f3ea-ace888fd664b"
      },
      "outputs": [
        {
          "output_type": "stream",
          "name": "stdout",
          "text": [
            "Loss on iteration 99 = 571.0701293945312\n",
            "Loss on iteration 199 = 506.95794677734375\n",
            "Loss on iteration 299 = 452.5797119140625\n",
            "Loss on iteration 399 = 406.1348876953125\n",
            "Loss on iteration 499 = 366.22100830078125\n"
          ]
        }
      ],
      "source": [
        "# Create random input and output data\n",
        "x = torch.randn(batch_size, input_size, device=device, dtype=dtype)\n",
        "y = torch.randn(batch_size, output_size, device=device, dtype=dtype)\n",
        "\n",
        "# Randomly initialize weights\n",
        "w1 = torch.randn(input_size, hidden_size, device=device, dtype=dtype)\n",
        "w2 = torch.randn(hidden_size, output_size, device=device, dtype=dtype)\n",
        "\n",
        "learning_rate = 1e-6\n",
        "for t in range(500):\n",
        "    # Forward pass: compute predicted y\n",
        "    #TODO\n",
        "    h_1 = x.mm(w1)\n",
        "    h_relu = h_1.clamp(min=0)\n",
        "    out = h_relu.mm(w2)\n",
        "    \n",
        "    # Compute and print loss\n",
        "    loss = (out - y).pow(2).sum().item()\n",
        "    \n",
        "    # Backward pass: \n",
        "    dloss_dout = 2 * (out - y)\n",
        "    \n",
        "    grad_w2 = h_relu.t().mm(dloss_dout) \n",
        "    \n",
        "    grad_h_relu = dloss_dout.mm(w2.t())\n",
        "    \n",
        "    grad_h_relu[h_1 < 0] = 0\n",
        "    \n",
        "    grad_w1 = x.t().mm(grad_h_relu)\n",
        "    \n",
        "    \n",
        "    w1 -= learning_rate * grad_w1\n",
        "    w2 -= learning_rate * grad_w2\n",
        "    if t % 100 == 99:\n",
        "        print('Loss on iteration {} = {}'.format(t, loss))\n",
        "    "
      ]
    },
    {
      "cell_type": "code",
      "execution_count": 62,
      "metadata": {
        "colab": {
          "base_uri": "https://localhost:8080/"
        },
        "id": "WvD4Y_HXa4vp",
        "outputId": "319a363a-3e3c-476d-b611-ae80abc0022f"
      },
      "outputs": [
        {
          "output_type": "execute_result",
          "data": {
            "text/plain": [
              "366.22100830078125"
            ]
          },
          "metadata": {},
          "execution_count": 62
        }
      ],
      "source": [
        "loss"
      ]
    },
    {
      "cell_type": "markdown",
      "metadata": {
        "id": "0DoEihxXa4vp"
      },
      "source": [
        "## Autograd"
      ]
    },
    {
      "cell_type": "markdown",
      "metadata": {
        "id": "_bb38mmEa4vp"
      },
      "source": [
        "2. Еще одно фундаментальное понятие и важный элемент при построении графа -- это __Autograd__ -- автоматическое дифференцирование.\n",
        "\n",
        "Для того чтобы с помощью стохастического градиентного спуска обновить обучаемые параметры сети, нужно посчитать градиенты. И как известно, обновление весов, которые учавтсвуют в нескольких операциях, происходит по `правилу дифференцирования сложной функции` (цепное правило или __chain rule__)."
      ]
    },
    {
      "cell_type": "markdown",
      "metadata": {
        "id": "vgi15Q2La4vq"
      },
      "source": [
        "<img src=\"./images/RegChainRule.png\" alt=\"Drawing\" />"
      ]
    },
    {
      "cell_type": "markdown",
      "metadata": {
        "id": "c7lgTaXea4vq"
      },
      "source": [
        "То есть (1) вычислительный граф позволяет определить последовательность операций, а (2) автоматическое дифференцирование посчитать нужные градиенты."
      ]
    },
    {
      "cell_type": "markdown",
      "metadata": {
        "id": "0albCWsKa4vq"
      },
      "source": [
        "Если бы `Autograd` не было, то тогда backprop надо было бы реализовывать самим, и как это бы выглядело?"
      ]
    },
    {
      "cell_type": "markdown",
      "metadata": {
        "id": "wHqRUpJaa4vq"
      },
      "source": [
        "Рассмотрим на примере, как посчиать градиенты для весов из входного слоя, где входной вектора `X` состоит из 3-х компонент. А входной слой вторую размерность имеет равной 2. \n",
        "\n",
        "После чего это идет в `ReLU`, но для простоты опустим на время ее, и посмотрим как дальше это идет по сети.\n",
        "\n",
        "Ниже написано, как это все вычисляется и приводит нас к значению целевой функции для одного наблюдения"
      ]
    },
    {
      "cell_type": "markdown",
      "metadata": {
        "id": "FEHm15jaa4vq"
      },
      "source": [
        "<img src=\"./images/1.png\" alt=\"1\" style=\"width: 600px;\"/>"
      ]
    },
    {
      "cell_type": "markdown",
      "metadata": {
        "id": "nu9ul5TAa4vq"
      },
      "source": [
        "Тогда, чтобы посчитать градиент по первому элементу из обучаемой матрицы на первом слое, необходимо взять производоную у сложной функции. А этот как раз делается по `chain rule`: сначала берем у внешней, потом спускаемся на уровень ниже, и так пока не додйдем до то функции, после которой эта перменная уже нигде не участвует:"
      ]
    },
    {
      "cell_type": "markdown",
      "metadata": {
        "id": "vgdGSbjFa4vr"
      },
      "source": [
        "<img src=\"./images/2.png\" alt=\"2\" style=\"width: 400px;\"/>"
      ]
    },
    {
      "cell_type": "markdown",
      "metadata": {
        "id": "11us3LeIa4vr"
      },
      "source": [
        "Перепишем это все в матричном виде, то есть сделаем аналог вида матрицы весов из первого слоя, но там уже будут её градиенты, котоыре будут нужны чтобы как раз обновить эти веса:"
      ]
    },
    {
      "cell_type": "markdown",
      "metadata": {
        "id": "70ONwpZHa4vr"
      },
      "source": [
        "<img src=\"./images/3.jpg\" alt=\"3\" style=\"width: 600px;\"/>"
      ]
    },
    {
      "cell_type": "markdown",
      "metadata": {
        "id": "8EB4cnkDa4vr"
      },
      "source": [
        "Как видно, здесь можно вектор X вынести, то есть разделить на две матрицы:"
      ]
    },
    {
      "cell_type": "markdown",
      "metadata": {
        "id": "0RUnNj6oa4vr"
      },
      "source": [
        "<img src=\"./images/4.jpg\" alt=\"4\" style=\"width: 500px;\"/>"
      ]
    },
    {
      "cell_type": "markdown",
      "metadata": {
        "id": "SAOhfyAsa4vr"
      },
      "source": [
        "То есть уже видно, что будем траспонировать входной вектор(матрицу). Но надо понимать, что в реальности у нас не одно наблюдение в батче, а несколько, тогда запись немного изменит свой вид:"
      ]
    },
    {
      "cell_type": "markdown",
      "metadata": {
        "id": "s8I14_I4a4vr"
      },
      "source": [
        "<img src=\"./images/5.jpg\" alt=\"5\" style=\"width: 500px;\"/>"
      ]
    },
    {
      "cell_type": "markdown",
      "metadata": {
        "id": "_nbOW8BKa4vs"
      },
      "source": [
        "Теперь мы видим, как на самом деле вычисляется вот те самые частные производные для вектора X, то есть видно, как математически это можно записать, а именно:"
      ]
    },
    {
      "cell_type": "markdown",
      "metadata": {
        "id": "DcyXgZmia4vs"
      },
      "source": [
        "<img src=\"./images/6.jpg\" alt=\"6\" style=\"width: 500px;\"/>"
      ]
    },
    {
      "cell_type": "markdown",
      "metadata": {
        "id": "d8qLa3d4a4vs"
      },
      "source": [
        "<img src=\"./images/7.jpg\" alt=\"7\" style=\"width: 500px;\"/>"
      ]
    },
    {
      "cell_type": "markdown",
      "metadata": {
        "id": "i94Ke2yTa4vs"
      },
      "source": [
        "Уже можно реализовать. Понятно, что транспонируется, что нет, и что на что умножается."
      ]
    },
    {
      "cell_type": "markdown",
      "metadata": {
        "id": "jRBO-UkRa4vs"
      },
      "source": [
        "Но помним про ReLU. Для простоты опустили, но теперь её учесть будет легче. \n",
        "\n",
        "Так как после первого слоя идет ReLU, а значит, занулились те выходы первого слоя, которые были __меньше__ нуля. Получается, что во второй слой не все дошло, тогда нужно обнулить, что занулил ReLU. \n",
        "\n",
        "Что занулил ReLU, мы можем выяснить при `forward pass`, а где именно поставить нули, то надо уже смотреть относительно `backward propagation`, на том выходе, где последний раз участвовал выход после ReLU, то есть:"
      ]
    },
    {
      "cell_type": "markdown",
      "metadata": {
        "id": "8ZnyI-Dfa4vs"
      },
      "source": [
        "<img src=\"./images/8.jpg\" alt=\"8\" style=\"width: 600px;\"/>"
      ]
    },
    {
      "cell_type": "markdown",
      "metadata": {
        "id": "arDQ83uua4vs"
      },
      "source": [
        "Благодаря `Autograd` реализацию `chain rule` можно избежать, так как для более сложных нейронных сетей вручную такое реализовать сложно, при этом сделать это эффективным."
      ]
    },
    {
      "cell_type": "markdown",
      "metadata": {
        "id": "xmC_Xb-1a4vt"
      },
      "source": [
        "Для того чтобы PyTorch понял, за какими переменными надо \"следить\", то есть указать, что именно \"эти\" переменные являются обучаемыми, необходимо при создании тензора в качестве аттрибута указать __requires_grad=True__:"
      ]
    },
    {
      "cell_type": "code",
      "execution_count": 63,
      "metadata": {
        "id": "FxX3A6lda4vt"
      },
      "outputs": [],
      "source": [
        "w1 = torch.randn(input_size, hidden_size, device=device, dtype=dtype, requires_grad=True)\n",
        "w2 = torch.randn(hidden_size, output_size, device=device, dtype=dtype, requires_grad=True)"
      ]
    },
    {
      "cell_type": "code",
      "execution_count": 64,
      "metadata": {
        "colab": {
          "base_uri": "https://localhost:8080/"
        },
        "id": "v5VOJPbIa4vt",
        "outputId": "e443061d-fc32-41f1-dc7a-d08b8a6b9382"
      },
      "outputs": [
        {
          "output_type": "stream",
          "name": "stdout",
          "text": [
            "99 75.53105926513672\n",
            "199 75.01432800292969\n",
            "299 74.5250015258789\n",
            "399 74.06139373779297\n",
            "499 73.62206268310547\n"
          ]
        }
      ],
      "source": [
        "learning_rate = 1e-6\n",
        "for t in range(500):\n",
        "    y_pred = x.mm(w1).clamp(min=0).mm(w2)\n",
        "\n",
        "    loss = (y_pred - y).pow(2).sum()\n",
        "    if t % 100 == 99:\n",
        "        print(t, loss.item())\n",
        "    \n",
        "    # Теперь подсчет градиентов для весов происходит при вызове backward\n",
        "    loss.backward()\n",
        "   \n",
        "    # Обновляем значение весов, но укзаываем, чтобы PyTorch не считал эту операцию, \n",
        "    # которая бы учавствовала бы при подсчете градиентов в chain rule\n",
        "    with torch.no_grad():\n",
        "        w1 -= learning_rate * w1.grad\n",
        "        w2 -= learning_rate * w2.grad\n",
        "        \n",
        "        # Теперь обнуляем значение градиентов, чтобы на следующем шаге \n",
        "        # они не учитывались при подсчете новых градиентов,\n",
        "        # иначе произойдет суммирвоание старых и новых градиентов\n",
        "        w1.grad.zero_()\n",
        "        w2.grad.zero_()"
      ]
    },
    {
      "cell_type": "markdown",
      "metadata": {
        "id": "j8Bzgxofa4vt"
      },
      "source": [
        "Осталось еще не вручную обновлять веса, а использовать адаптивные методы градинетного спсука. Для этого нужно использовать модуль __optim__. А помимо оптимайзера, еще можно использовать готовые целевые функции из модлуя __nn__."
      ]
    },
    {
      "cell_type": "code",
      "execution_count": 65,
      "metadata": {
        "id": "cTiIHJyXa4vt"
      },
      "outputs": [],
      "source": [
        "w1 = torch.randn(input_size, hidden_size, device=device, dtype=dtype, requires_grad=True)\n",
        "w2 = torch.randn(hidden_size, output_size, device=device, dtype=dtype, requires_grad=True)"
      ]
    },
    {
      "cell_type": "code",
      "execution_count": 66,
      "metadata": {
        "colab": {
          "base_uri": "https://localhost:8080/"
        },
        "id": "_CLi0Qfja4vt",
        "outputId": "dbcf00ae-5342-43c4-9568-8cbebe63132e"
      },
      "outputs": [
        {
          "output_type": "stream",
          "name": "stdout",
          "text": [
            "99 72.33561706542969\n",
            "199 72.32672119140625\n",
            "299 72.31784057617188\n",
            "399 72.30896759033203\n",
            "499 72.30008697509766\n"
          ]
        }
      ],
      "source": [
        "import torch.optim as optim\n",
        "\n",
        "loss_fn = torch.nn.MSELoss(reduction='sum')\n",
        "\n",
        "learning_rate = 1e-6\n",
        "optimizer = torch.optim.Adam([w1, w2], lr=learning_rate)\n",
        "\n",
        "for t in range(500):\n",
        "    optimizer.zero_grad()\n",
        "    \n",
        "    y_pred = x.mm(w1).clamp(min=0).mm(w2)\n",
        "    \n",
        "    loss = loss_fn(y_pred, y)\n",
        "    if t % 100 == 99:\n",
        "        print(t, loss.item())\n",
        "    \n",
        "    loss.backward()\n",
        "   \n",
        "    optimizer.step()"
      ]
    },
    {
      "cell_type": "markdown",
      "metadata": {
        "id": "vDQ3KTOwa4vu"
      },
      "source": [
        "После того, как мы сделали backward, в этот момент посчитались градиенты и граф уничтожился, то есть стёрлись все пути, которые связывали тензоры между собой. Это значит, что еще раз backward сделать не поулчится, будет ошибка. Но если вдруг нужно считать градиенты еще раз, то нужно при вызове backward задать `retain_graph=True`."
      ]
    },
    {
      "cell_type": "markdown",
      "metadata": {
        "id": "K7Z_Xln5a4vu"
      },
      "source": [
        "Еще важный аттрибут, который есть у Tensor -- это `grad_fn`. В этом аттрибуте указывается та функция, посредством которой был создан этот тензор. Так PyTorch понимает, как именно считать по нему градиент."
      ]
    },
    {
      "cell_type": "code",
      "execution_count": 21,
      "metadata": {
        "colab": {
          "base_uri": "https://localhost:8080/"
        },
        "id": "Pytjtw3wa4vu",
        "outputId": "57c5e1d9-77f3-4425-ea64-b856793789f0"
      },
      "outputs": [
        {
          "output_type": "execute_result",
          "data": {
            "text/plain": [
              "<MmBackward0 at 0x7f9dac93cfd0>"
            ]
          },
          "metadata": {},
          "execution_count": 21
        }
      ],
      "source": [
        "y_pred.grad_fn"
      ]
    },
    {
      "cell_type": "markdown",
      "metadata": {
        "id": "xtA3cPZRa4vu"
      },
      "source": [
        "Также можно контролировать, должны ли градиенты течь или нет."
      ]
    },
    {
      "cell_type": "code",
      "execution_count": 22,
      "metadata": {
        "colab": {
          "base_uri": "https://localhost:8080/"
        },
        "id": "1klBOuika4vv",
        "outputId": "24ab1853-f68d-48e6-fda4-6f1f468e4de9"
      },
      "outputs": [
        {
          "output_type": "execute_result",
          "data": {
            "text/plain": [
              "True"
            ]
          },
          "metadata": {},
          "execution_count": 22
        }
      ],
      "source": [
        "x = torch.tensor([1.], requires_grad=True)\n",
        "with torch.no_grad():\n",
        "    with torch.enable_grad():\n",
        "        y = x * 2\n",
        "y.requires_grad"
      ]
    },
    {
      "cell_type": "markdown",
      "metadata": {
        "id": "3vXsPq9Fa4vv"
      },
      "source": [
        "## Почему Backprop надо понимать"
      ]
    },
    {
      "cell_type": "markdown",
      "metadata": {
        "id": "sQlVYxSFa4vv"
      },
      "source": [
        "1. Backprop позволяет понимать, как те или иные операции, сложные конструкции в сети влияют на обнолвение весов.\n",
        "Почему лучше сделать конкатенацию тензоров, а не поэлементное сложение. Для этого нужно посмотреть на backprop, как будут обновляться веса.\n",
        "\n",
        "2. Даже на таком маленьком пример двуслойной MLP можно уже увидеть, когда `ReLU`, как функция активация, не очень хорошо применять. Если разреженные данные, то получить на выходе много нулей вероятнее, чем при использовании `LeakyReLU`, то есть градиенты будут нулевыми и веса никак не будут обновляться => сеть не обучается!\n",
        "\n",
        "3. В архитектуре могут встречаться недифференцируемые операции, и первое - это нужно понять, потому что при обучении сети это может быть не сразу заметно, просто качество модели будет плохое, и точность хорошую не поулчится достичь.\n",
        "\n",
        "Например, в одной из статей было предложено в качестве механизма внимания применить распределение Бернулли, которое умножается на выход промежуточного слоя сети. И эта опреация недифференцируема, нужно реализовывать backprop самим, тем самым обеспечить корректное протекание градиентов.\n"
      ]
    },
    {
      "cell_type": "markdown",
      "metadata": {
        "id": "7BP9ll0fa4vv"
      },
      "source": [
        "<img src=\"./images/Bernoulli.png\" alt=\"8\" style=\"width: 600px;\"/>"
      ]
    },
    {
      "cell_type": "markdown",
      "metadata": {
        "id": "tgcuw3bEa4vv"
      },
      "source": [
        "Так же любая статья, которая предлагет новую целевую функцию для той или иной задачи, там всегда будут представлены градиенты, чтобы было понимание, как это влияет на обновление весов. Не просто так !"
      ]
    },
    {
      "cell_type": "markdown",
      "metadata": {
        "id": "e6zKoKoba4vv"
      },
      "source": [
        "<img src=\"./images/BernoulliBackProp.png\" alt=\"8\" style=\"width: 600px;\"/>"
      ]
    },
    {
      "cell_type": "markdown",
      "metadata": {
        "id": "t6hr9Pf7a4vw"
      },
      "source": [
        "## nn.Module"
      ]
    },
    {
      "cell_type": "markdown",
      "metadata": {
        "id": "ZDd25KbCa4vw"
      },
      "source": [
        "В предыдущем примере архитектуру сети создавали используя последовательной способ объявления слоев сети -- `nn.Sequential`.\n",
        "\n",
        "Но еще можно это сделать более гибким подходом:"
      ]
    },
    {
      "cell_type": "code",
      "execution_count": 23,
      "metadata": {
        "id": "ZoE_Pujla4vw"
      },
      "outputs": [],
      "source": [
        "import torch.nn as nn"
      ]
    },
    {
      "cell_type": "code",
      "execution_count": 24,
      "metadata": {
        "id": "1mOuuWlia4vw"
      },
      "outputs": [],
      "source": [
        "class TwoLayerNet(nn.Module):\n",
        "    def __init__(self, input_size, hidden_size, output_size):\n",
        "        \"\"\"\n",
        "        TwoLayerNet наследуется от nn.Module и тем самым полчаем возможность\n",
        "        переопределять методы класса.\n",
        "        В конструктуре создаем слои (обучаемые веса) и другие нужные перменные/функции,\n",
        "        которые нужны для модели\n",
        "        \"\"\"\n",
        "        super(TwoLayerNet, self).__init__()\n",
        "        self.linear1 = torch.nn.Linear(input_size, hidden_size)\n",
        "        self.linear2 = torch.nn.Linear(hidden_size, output_size)\n",
        "\n",
        "    def forward(self, x):\n",
        "        \"\"\"\n",
        "        Метод forward отвечает за прямое распростронение модели, \n",
        "        поэтому данный метод нужно переопределять обязательно, \n",
        "        чтобы задать логику прямого распростронения. \n",
        "        Именно в этот момент начинает строится динамический граф\n",
        "        \"\"\"\n",
        "        h_relu = self.linear1(x).clamp(min=0)\n",
        "        y_pred = self.linear2(h_relu)\n",
        "        \n",
        "        return y_pred"
      ]
    },
    {
      "cell_type": "code",
      "execution_count": 25,
      "metadata": {
        "colab": {
          "base_uri": "https://localhost:8080/"
        },
        "id": "lpfmc2aWa4vw",
        "outputId": "b3f6fc8d-a86d-458a-8153-e76e024d16af"
      },
      "outputs": [
        {
          "output_type": "stream",
          "name": "stdout",
          "text": [
            "99 3.544069290161133\n",
            "199 0.14907625317573547\n",
            "299 0.013268783688545227\n",
            "399 0.0018328004516661167\n",
            "499 0.00032041952363215387\n"
          ]
        }
      ],
      "source": [
        "batch_size = 64\n",
        "input_size = 1000\n",
        "hidden_size = 100\n",
        "output_size = 10\n",
        "\n",
        "x = torch.randn(batch_size, input_size, device=device, dtype=dtype)\n",
        "y = torch.randn(batch_size, output_size, device=device, dtype=dtype)\n",
        "\n",
        "model = TwoLayerNet(input_size, hidden_size, output_size)\n",
        "\n",
        "loss_fn = torch.nn.MSELoss(reduction='sum')\n",
        "optimizer = torch.optim.SGD(model.parameters(), lr=1e-4)\n",
        "\n",
        "for t in range(500):\n",
        "    y_pred = model(x)\n",
        "\n",
        "    loss = loss_fn(y_pred, y)\n",
        "    if t % 100 == 99:\n",
        "        print(t, loss.item())\n",
        "\n",
        "    optimizer.zero_grad()\n",
        "    loss.backward()\n",
        "    optimizer.step()"
      ]
    },
    {
      "cell_type": "markdown",
      "metadata": {
        "id": "zHxrLrkSa4vx"
      },
      "source": [
        "# Домашние задание"
      ]
    },
    {
      "cell_type": "markdown",
      "metadata": {
        "id": "7zJXkCzJa4vx"
      },
      "source": [
        "1. Добавить Bias и посчитать для них градиенты.\n",
        "2. Сравнить градинеты с тем, как считает PyTorch AutoGrad."
      ]
    },
    {
      "cell_type": "code",
      "source": [
        "batch_size = 64\n",
        "input_size = 3\n",
        "hidden_size = 2\n",
        "output_size = 1"
      ],
      "metadata": {
        "id": "aGY3_uF-kp5u"
      },
      "execution_count": 89,
      "outputs": []
    },
    {
      "cell_type": "code",
      "source": [
        "x = torch.randn(batch_size, input_size, device=device, dtype=dtype)\n",
        "y = torch.randn(batch_size, output_size, device=device, dtype=dtype)\n",
        "bias1 = torch.randn((1,2), device=device, dtype=dtype)\n",
        "bias2 = torch.randn((1,1), device=device, dtype=dtype)\n",
        "\n",
        "w1 = torch.randn(input_size, hidden_size, device=device, dtype=dtype)\n",
        "w2 = torch.randn(hidden_size, output_size, device=device, dtype=dtype)\n",
        "\n",
        "learning_rate = 1e-6\n",
        "for t in range(500):\n",
        "    h_1 = x.mm(w1) + bias1\n",
        "    h_relu = h_1.clamp(min=0)\n",
        "    out = h_relu.mm(w2) + bias2\n",
        "\n",
        "    loss = (out - y).pow(2).sum().item()\n",
        " \n",
        "    dloss_dout = 2 * (out - y)\n",
        "\n",
        "    grad_w2 = h_relu.t().mm(dloss_dout) \n",
        "    \n",
        "    grad_h_relu = dloss_dout.mm(w2.t())\n",
        "    \n",
        "    grad_h_relu[h_1 < 0] = 0\n",
        "    \n",
        "    grad_w1 = x.t().mm(grad_h_relu)\n",
        "    \n",
        "    grad_bias2 = h_relu.t().mm(dloss_dout)\n",
        "    grad_h_relu_2 = dloss_dout.mm(w2.t())\n",
        "    grad_bias1 = x.t().mm(grad_h_relu_2)\n",
        "\n",
        "    w1 -= learning_rate * grad_w1\n",
        "    w2 -= learning_rate * grad_w2\n",
        "\n",
        "    bias1 = bias1 - learning_rate * grad_bias1\n",
        "    bias2 = bias2 - learning_rate * grad_bias2\n",
        "\n",
        "    if t % 100 == 99:\n",
        "        print('Loss on iteration {} = {}'.format(t, loss))\n",
        "    "
      ],
      "metadata": {
        "colab": {
          "base_uri": "https://localhost:8080/"
        },
        "id": "5Q3YQrNDr5Ko",
        "outputId": "ffd0cde1-f56e-4976-ba49-2ff15015a9d5"
      },
      "execution_count": 90,
      "outputs": [
        {
          "output_type": "stream",
          "name": "stdout",
          "text": [
            "Loss on iteration 99 = 158.7007293701172\n",
            "Loss on iteration 199 = 158.31459045410156\n",
            "Loss on iteration 299 = 157.94216918945312\n",
            "Loss on iteration 399 = 157.58229064941406\n",
            "Loss on iteration 499 = 157.23388671875\n"
          ]
        }
      ]
    },
    {
      "cell_type": "markdown",
      "metadata": {
        "id": "lAy0ExA7a4vx"
      },
      "source": [
        "### PyTorch AutoGrad"
      ]
    },
    {
      "cell_type": "code",
      "execution_count": 91,
      "metadata": {
        "colab": {
          "base_uri": "https://localhost:8080/"
        },
        "id": "I4MNNv4sa4vx",
        "outputId": "fea65077-3b4b-46ef-eca1-194fd9e880eb"
      },
      "outputs": [
        {
          "output_type": "stream",
          "name": "stdout",
          "text": [
            "99 78.50776672363281\n",
            "199 74.10556030273438\n",
            "299 70.6914291381836\n",
            "399 68.01966094970703\n",
            "499 65.9071273803711\n"
          ]
        }
      ],
      "source": [
        "w1 = torch.randn(input_size, hidden_size, device=device, dtype=dtype, requires_grad=True)\n",
        "w2 = torch.randn(hidden_size, output_size, device=device, dtype=dtype, requires_grad=True)\n",
        "bias1 = torch.randn((1,2), device=device, dtype=dtype, requires_grad=True)\n",
        "bias2 = torch.randn((1,1), device=device, dtype=dtype, requires_grad=True)\n",
        "\n",
        "learning_rate = 1e-6\n",
        "for t in range(500):\n",
        "    h_1 = x.mm(w1) + bias1\n",
        "    h_relu = h_1.clamp(min=0)\n",
        "    y_pred = h_relu.mm(w2) + bias2\n",
        "\n",
        "    loss = (y_pred - y).pow(2).sum()\n",
        "    if t % 100 == 99:\n",
        "        print(t, loss.item())\n",
        "  \n",
        "    loss.backward()\n",
        "   \n",
        "    with torch.no_grad():\n",
        "        w1 -= learning_rate * w1.grad\n",
        "        w2 -= learning_rate * w2.grad\n",
        "\n",
        "        bias1 = bias1 - learning_rate * grad_bias1\n",
        "        bias2 = bias2 - learning_rate * grad_bias2\n",
        "        \n",
        "        w1.grad.zero_()\n",
        "        w2.grad.zero_()\n"
      ]
    },
    {
      "cell_type": "code",
      "execution_count": 92,
      "metadata": {
        "colab": {
          "base_uri": "https://localhost:8080/"
        },
        "id": "XzVNCSLma4vx",
        "outputId": "b1887b3b-9d13-41f1-c7ef-48c3a0fa04d8"
      },
      "outputs": [
        {
          "output_type": "stream",
          "name": "stdout",
          "text": [
            "99 65.86695861816406\n",
            "199 65.84540557861328\n",
            "299 65.82389068603516\n",
            "399 65.80240631103516\n",
            "499 65.78095245361328\n"
          ]
        }
      ],
      "source": [
        "import torch.optim as optim\n",
        "\n",
        "loss_fn = torch.nn.MSELoss(reduction='sum')\n",
        "\n",
        "learning_rate = 1e-6\n",
        "optimizer = torch.optim.Adam([w1, w2], lr=learning_rate)\n",
        "\n",
        "for t in range(500):\n",
        "    optimizer.zero_grad()\n",
        "    \n",
        "    h_1 = x.mm(w1) + bias1\n",
        "    h_relu = h_1.clamp(min=0)\n",
        "    y_pred = h_relu.mm(w2) + bias2\n",
        "    \n",
        "    loss = loss_fn(y_pred, y)\n",
        "    if t % 100 == 99:\n",
        "        print(t, loss.item())\n",
        "    \n",
        "    loss.backward()\n",
        "   \n",
        "    optimizer.step()"
      ]
    },
    {
      "cell_type": "code",
      "source": [
        ""
      ],
      "metadata": {
        "id": "6z305h80ykCM"
      },
      "execution_count": null,
      "outputs": []
    }
  ],
  "metadata": {
    "kernelspec": {
      "display_name": "Python 3",
      "language": "python",
      "name": "python3"
    },
    "language_info": {
      "codemirror_mode": {
        "name": "ipython",
        "version": 3
      },
      "file_extension": ".py",
      "mimetype": "text/x-python",
      "name": "python",
      "nbconvert_exporter": "python",
      "pygments_lexer": "ipython3",
      "version": "3.8.8"
    },
    "colab": {
      "name": "PyTorch_Graph_AutoGrad+optim.ipynb",
      "provenance": [],
      "collapsed_sections": []
    }
  },
  "nbformat": 4,
  "nbformat_minor": 0
}